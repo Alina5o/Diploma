{
 "cells": [
  {
   "cell_type": "markdown",
   "metadata": {},
   "source": [
    "## Tasks\n",
    "\n",
    "1. LLM from GROQ API\n",
    "2. Embed model for creating vectors from graph\n",
    "3. Text2Cypher for extracting relevant nodes baased on question."
   ]
  },
  {
   "cell_type": "markdown",
   "metadata": {},
   "source": [
    "1. Synonyms during retrieving\n",
    "2. Number of rela during retrieving"
   ]
  },
  {
   "cell_type": "markdown",
   "metadata": {},
   "source": [
    "## Keyword RAG"
   ]
  },
  {
   "cell_type": "markdown",
   "metadata": {},
   "source": [
    "### Setting env"
   ]
  },
  {
   "cell_type": "code",
   "execution_count": 1,
   "metadata": {},
   "outputs": [],
   "source": [
    "from llama_index.llms.litellm import LiteLLM\n",
    "from llama_index.core import Settings\n",
    "\n",
    "import os\n",
    "\n",
    "system_prompt=\"\"\"\n",
    "\n",
    "\"\"\"\n",
    "\n",
    "Settings.llm = LiteLLM(\n",
    "    model=\"groq/llama-3.3-70b-versatile\",\n",
    "    api_key=os.getenv(\"GROQ_API_KEY\"),\n",
    "    #system_prompt=system_prompt\n",
    ")\n",
    "Settings.chunk_size = 512"
   ]
  },
  {
   "cell_type": "code",
   "execution_count": 5,
   "metadata": {},
   "outputs": [
    {
     "data": {
      "text/plain": [
       "{'_llm': LiteLLM(callback_manager=<llama_index.core.callbacks.base.CallbackManager object at 0x000001E695E2BED0>, system_prompt=None, messages_to_prompt=<function messages_to_prompt at 0x000001E6FF8D67A0>, completion_to_prompt=<function default_completion_to_prompt at 0x000001E6FF90A2A0>, output_parser=None, pydantic_program_mode=<PydanticProgramMode.DEFAULT: 'default'>, query_wrapper_prompt=None, model='groq/llama-3.3-70b-versatile', temperature=0.1, max_tokens=None, additional_kwargs={'api_key': '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'}, max_retries=10),\n",
       " '_embed_model': None,\n",
       " '_callback_manager': <llama_index.core.callbacks.base.CallbackManager at 0x1e695e2bed0>,\n",
       " '_tokenizer': None,\n",
       " '_node_parser': SentenceSplitter(include_metadata=True, include_prev_next_rel=True, callback_manager=<llama_index.core.callbacks.base.CallbackManager object at 0x000001E695E2BED0>, id_func=<function default_id_func at 0x000001E6FFA2AFC0>, chunk_size=512, chunk_overlap=200, separator=' ', paragraph_separator='\\n\\n\\n', secondary_chunking_regex='[^,.;。？！]+[,.;。？！]?'),\n",
       " '_prompt_helper': None,\n",
       " '_transformations': None}"
      ]
     },
     "execution_count": 5,
     "metadata": {},
     "output_type": "execute_result"
    }
   ],
   "source": [
    "Settings.__dict__"
   ]
  },
  {
   "cell_type": "markdown",
   "metadata": {},
   "source": [
    "### Storage context for property KG"
   ]
  },
  {
   "cell_type": "code",
   "execution_count": 2,
   "metadata": {},
   "outputs": [],
   "source": [
    "from llama_index.core import StorageContext\n",
    "from llama_index.graph_stores.neo4j import Neo4jPropertyGraphStore\n",
    "\n",
    "\n",
    "graph_store = Neo4jPropertyGraphStore(\n",
    "    username=os.getenv(\"NEO4J_USERNAME\"),\n",
    "    password=os.getenv(\"NEO4J_PASSWORD\"),\n",
    "    url=os.getenv(\"NEO4J_URL\")\n",
    ")\n",
    "\n",
    "storage_context = StorageContext.from_defaults(graph_store=graph_store)"
   ]
  },
  {
   "cell_type": "markdown",
   "metadata": {},
   "source": [
    "### Retriever from KG"
   ]
  },
  {
   "cell_type": "markdown",
   "metadata": {},
   "source": [
    "#### Helper functions"
   ]
  },
  {
   "cell_type": "code",
   "execution_count": 46,
   "metadata": {},
   "outputs": [],
   "source": [
    "def extract_entities(query):\n",
    "    \"\"\"\n",
    "    Extracts entities from a given text using the LiteLLM model.\n",
    "\n",
    "    Args:\n",
    "        text (str): The text from which to extract entities.\n",
    "\n",
    "    Returns:\n",
    "        list: A list of extracted entities.\n",
    "    \"\"\"\n",
    "    entity_prompt = f\"\"\"Extract the medical entities from the following query. Provide the entities as a comma-separated list only.\n",
    "    Query: {query}\n",
    "    Entities:\"\"\"\n",
    "\n",
    "    llm_response = Settings.llm.complete(entity_prompt)\n",
    "    entity_names_str = llm_response.text\n",
    "    entity_names = [entity.strip() for entity in entity_names_str.split(',') if entity.strip()]\n",
    "    entity_names = [entity_name.capitalize() for entity_name in entity_names]\n",
    "    \n",
    "    return entity_names\n",
    "\n",
    "def parse_kg_result_dict(result_dict):\n",
    "    \"\"\"\n",
    "    Parses a dictionary representing a knowledge graph result (node-relationship-node)\n",
    "    into a human-readable string.\n",
    "\n",
    "    Args:\n",
    "        result_dict (dict): A dictionary in the format:\n",
    "            {'n': {'name': 'Node1Name', 'id': 'Node1Id'},\n",
    "             'r': ({'name': 'Node1Name', 'id': 'Node1Id'},\n",
    "                   'RelationshipType',\n",
    "                   {'name': 'Node2Name', 'id': 'Node2Id'}),\n",
    "             'm': {'name': 'Node2Name', 'id': 'Node2Id'}}\n",
    "\n",
    "    Returns:\n",
    "        str: A string in the format \"Node1Name relationship_type Node2Name\".\n",
    "             Returns \"Invalid result format\" if the input dictionary is not in the expected format.\n",
    "    \"\"\"\n",
    "    try:\n",
    "        node_n_name = result_dict['n']['name']\n",
    "        relationship_tuple = result_dict['r']\n",
    "        relationship_type = relationship_tuple[1]  # Get relationship type from tuple\n",
    "        node_m_name = result_dict['m']['name']\n",
    "\n",
    "        return f\"{node_n_name} {relationship_type} {node_m_name}\"\n",
    "\n",
    "    except (KeyError, TypeError, IndexError):\n",
    "        return \"Invalid result format\"\n",
    "    \n",
    "    \n",
    "def query_graph(entity_name, num, entity_type):\n",
    "    \n",
    "    cypher_query = f\"\"\"\n",
    "    MATCH (n:{entity_type} {{name: '{entity_name}'}})-[r]-(m) \n",
    "    RETURN n, r, m\n",
    "    limit {num};\n",
    "    \"\"\"\n",
    "    \n",
    "    results = graph_store.structured_query(cypher_query)\n",
    "    \n",
    "    return results"
   ]
  },
  {
   "cell_type": "markdown",
   "metadata": {},
   "source": [
    "`custom_entity_extract_fn` must return str with id "
   ]
  },
  {
   "cell_type": "code",
   "execution_count": 47,
   "metadata": {},
   "outputs": [],
   "source": [
    "def custom_entity_extract_fn(query_str):\n",
    "    \"\"\"\n",
    "    Custom entity extraction function to return Neo4j graph nodes.\n",
    "    \"\"\"\n",
    "    \n",
    "    entity_names = extract_entities(query_str)\n",
    "    print(f\"Extracted entities: {entity_names}\")\n",
    "    if not entity_names:\n",
    "        print(\"No entities found in query.\")\n",
    "        return []\n",
    "\n",
    "    # Fetch Neo4j Nodes for each Entity Name\n",
    "    graph_nodes = []\n",
    "    # Look for over concepts first and then atoms if no results are found\n",
    "    num = 5\n",
    "    for entity_name in entity_names:\n",
    "        \n",
    "        results = query_graph(entity_name, num, \"Concept\")\n",
    "        if not results:\n",
    "            results = query_graph(entity_name, num, \"Atom\")\n",
    "        \n",
    "        graph_nodes.extend(results)\n",
    "        \n",
    "        #results = [parse_kg_result_dict(result) for result in results]\n",
    "    \n",
    "    print(f\"Found {len(graph_nodes)} nodes in the graph.\")\n",
    "    print(graph_nodes)\n",
    "    \n",
    "    return graph_nodes"
   ]
  },
  {
   "cell_type": "code",
   "execution_count": 48,
   "metadata": {},
   "outputs": [
    {
     "name": "stderr",
     "output_type": "stream",
     "text": [
      "C:\\Users\\aline\\AppData\\Local\\Temp\\ipykernel_27436\\2950259361.py:4: DeprecationWarning: Call to deprecated class KnowledgeGraphRAGRetriever. (KnowledgeGraphRAGRetriever is deprecated, it is recommended to use PropertyGraphIndex and associated retrievers instead.) -- Deprecated since version 0.10.53.\n",
      "  graph_rag_retriever = KnowledgeGraphRAGRetriever(\n"
     ]
    }
   ],
   "source": [
    "from llama_index.core.query_engine import RetrieverQueryEngine\n",
    "from llama_index.core.retrievers import KnowledgeGraphRAGRetriever\n",
    "\n",
    "graph_rag_retriever = KnowledgeGraphRAGRetriever(\n",
    "    storage_context=storage_context,\n",
    "    verbose=True,\n",
    "    with_nl2graphquery=True,\n",
    "    entity_extract_fn=custom_entity_extract_fn\n",
    "    )\n",
    "\n",
    "query_engine = RetrieverQueryEngine.from_args(\n",
    "    graph_rag_retriever,\n",
    ")"
   ]
  },
  {
   "cell_type": "code",
   "execution_count": null,
   "metadata": {},
   "outputs": [],
   "source": [
    "from IPython.display import display, Markdown\n",
    "\n",
    "query_str = \"\"\"\n",
    "A 21-year-old sexually active male complains of fever, pain during urination, and inflammation and pain in the right knee. \n",
    "A culture of the joint fluid shows a bacteria that does not ferment maltose and has no polysaccharide capsule. \n",
    "The physician orders antibiotic therapy for the patient. The mechanism of action of action of the medication given blocks cell wall synthesis, which of the following was given?\n",
    "\"\"\"\n",
    "\n",
    "response = query_engine.query(\n",
    "    query_str\n",
    ")\n",
    "display(Markdown(f\"<b>{response}</b>\"))"
   ]
  },
  {
   "cell_type": "markdown",
   "metadata": {},
   "source": [
    "## Embedding rag\n",
    "\n",
    "1. https://docs.llamaindex.ai/en/stable/examples/index_structs/knowledge_graph/Neo4jKGIndexDemo/\n",
    "2. https://docs.llamaindex.ai/en/stable/examples/property_graph/property_graph_neo4j/#loading-from-an-existing-graph"
   ]
  },
  {
   "cell_type": "markdown",
   "metadata": {},
   "source": [
    "## Experiments"
   ]
  },
  {
   "cell_type": "markdown",
   "metadata": {},
   "source": [
    "### Model"
   ]
  },
  {
   "cell_type": "code",
   "execution_count": null,
   "metadata": {},
   "outputs": [],
   "source": [
    "import os\n",
    "import litellm\n",
    "\n",
    "api_key = os.getenv('GROQ_API_KEY')\n",
    "\n",
    "\n",
    "response = litellm.completion(\n",
    "    model=\"groq/llama-3.3-70b-versatile\", \n",
    "    messages=[\n",
    "       {\"role\": \"user\", \"content\": \"hello from litellm\"}\n",
    "   ],\n",
    ")\n",
    "print(response)"
   ]
  },
  {
   "cell_type": "markdown",
   "metadata": {},
   "source": [
    "### NER"
   ]
  },
  {
   "cell_type": "code",
   "execution_count": null,
   "metadata": {},
   "outputs": [],
   "source": [
    "entity_prompt = f\"\"\"Extract the medical entities from the following query. Provide the entities as a comma-separated list only.\n",
    "Query: {\"A 21-year-old sexually active male complains of fever, pain during urination, and inflammation and pain in the right knee. A culture of the joint fluid shows a bacteria that does not ferment maltose and has no polysaccharide capsule. The physician orders antibiotic therapy for the patient. The mechanism of action of action of the medication given blocks cell wall synthesis, which of the following was given?\"}\n",
    "Entities:\"\"\"\n",
    "\n",
    "llm_response = Settings.llm.complete(entity_prompt)\n",
    "entity_names_str = llm_response.text\n",
    "entity_names = [entity.strip() for entity in entity_names_str.split(',') if entity.strip()] # Simple split and clean\n",
    "entity_names = [entity_name.capitalize() for entity_name in entity_names]\n"
   ]
  },
  {
   "cell_type": "code",
   "execution_count": 15,
   "metadata": {},
   "outputs": [
    {
     "name": "stdout",
     "output_type": "stream",
     "text": [
      "['fever', 'pain during urination', 'inflammation', 'knee pain', 'bacteria', 'joint fluid', 'antibiotic therapy', 'cell wall synthesis']\n"
     ]
    }
   ],
   "source": [
    "print(entity_names)"
   ]
  },
  {
   "cell_type": "code",
   "execution_count": null,
   "metadata": {},
   "outputs": [
    {
     "data": {
      "text/plain": [
       "['Fever',\n",
       " 'Pain during urination',\n",
       " 'Inflammation',\n",
       " 'Knee pain',\n",
       " 'Bacteria',\n",
       " 'Joint fluid',\n",
       " 'Antibiotic therapy',\n",
       " 'Cell wall synthesis']"
      ]
     },
     "execution_count": 28,
     "metadata": {},
     "output_type": "execute_result"
    }
   ],
   "source": [
    "[entity_name.capitalize() for entity_name in entity_names]"
   ]
  },
  {
   "cell_type": "markdown",
   "metadata": {},
   "source": [
    "### Query"
   ]
  },
  {
   "cell_type": "code",
   "execution_count": null,
   "metadata": {},
   "outputs": [],
   "source": [
    "entity = \"Inflammation\"\n",
    "num = 50"
   ]
  },
  {
   "cell_type": "code",
   "execution_count": 31,
   "metadata": {},
   "outputs": [],
   "source": [
    "cypher_query = f\"\"\"\n",
    "MATCH (n:Concept {{name: '{entity}'}})-[r]-(m) \n",
    "RETURN n, r, m\n",
    "limit {num};\n",
    "\"\"\"\n",
    "results = graph_store.structured_query(cypher_query)"
   ]
  },
  {
   "cell_type": "code",
   "execution_count": 33,
   "metadata": {},
   "outputs": [
    {
     "data": {
      "text/plain": [
       "[]"
      ]
     },
     "execution_count": 33,
     "metadata": {},
     "output_type": "execute_result"
    }
   ],
   "source": [
    "results"
   ]
  },
  {
   "cell_type": "code",
   "execution_count": 20,
   "metadata": {},
   "outputs": [
    {
     "data": {
      "text/plain": [
       "['astructured_query',\n",
       " 'avector_query',\n",
       " 'sanitize_query_output',\n",
       " 'structured_query',\n",
       " 'vector_query']"
      ]
     },
     "execution_count": 20,
     "metadata": {},
     "output_type": "execute_result"
    }
   ],
   "source": [
    "[method for method in dir(graph_store) if \"query\" in method]"
   ]
  },
  {
   "cell_type": "markdown",
   "metadata": {},
   "source": []
  }
 ],
 "metadata": {
  "kernelspec": {
   "display_name": ".venv",
   "language": "python",
   "name": "python3"
  },
  "language_info": {
   "codemirror_mode": {
    "name": "ipython",
    "version": 3
   },
   "file_extension": ".py",
   "mimetype": "text/x-python",
   "name": "python",
   "nbconvert_exporter": "python",
   "pygments_lexer": "ipython3",
   "version": "3.13.1"
  }
 },
 "nbformat": 4,
 "nbformat_minor": 2
}
